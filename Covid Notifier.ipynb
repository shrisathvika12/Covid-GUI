{
 "cells": [
  {
   "cell_type": "code",
   "execution_count": 2,
   "metadata": {},
   "outputs": [
    {
     "data": {
      "text/plain": [
       "True"
      ]
     },
     "execution_count": 2,
     "metadata": {},
     "output_type": "execute_result"
    }
   ],
   "source": [
    "#22 Covid-19 cases tracker\n",
    "from urllib.request import urlopen, Request\n",
    "from bs4 import BeautifulSoup as bs\n",
    "from win10toast import ToastNotifier\n",
    "#from notify_run import Notify\n",
    "\n",
    "\n",
    "# In[7]:\n",
    "\n",
    "\n",
    "header = {\"User-Agent\":\"Mozilla\"}\n",
    "req = Request(\"https://www.worldometers.info/coronavirus/country/india/\", headers = header)\n",
    "html = urlopen(req)\n",
    "\n",
    "\n",
    "# In[8]:\n",
    "\n",
    "\n",
    "html.status\n",
    "\n",
    "\n",
    "# In[9]:\n",
    "\n",
    "\n",
    "obj = bs(html,'lxml')\n",
    "\n",
    "\n",
    "# In[15]:\n",
    "\n",
    "\n",
    "new_cases = obj.find(\"li\", {\"class\":\"news_li\"}).strong.text.split()[0]\n",
    "\n",
    "\n",
    "# In[22]:\n",
    "\n",
    "\n",
    "death = list(obj.find(\"li\", {\"class\":\"news_li\"}).strong.next_siblings)[1].text.split()[0]\n",
    "\n",
    "\n",
    "# ### Notifier\n",
    "\n",
    "# In[23]:\n",
    "\n",
    "\n",
    "notifier = ToastNotifier()\n",
    "\n",
    "\n",
    "# In[24]:\n",
    "message  = \"New Cases - \"+ new_cases+\"\\nDeath - \"+death\n",
    "\n",
    "# In[25]:\n",
    "\n",
    "\n",
    "message\n",
    "\n",
    "\n",
    "# In[26]:\n",
    "\n",
    "\n",
    "notifier.show_toast(title=\"COVID-19 Update\", msg=message,  icon_path=\"virus.ico\",duration=20)\n",
    "#notify = Notify()\n",
    "#notify.register()\n",
    "#notify.send('Hi there!')\n",
    "#notify.send('Click to open notify.run!', 'https://notify.run')\n",
    "\n",
    "#notifier.show_toast(\"GEEKSFORGEEKS\", \"You got notification\", duration = 10, \n",
    " #icon_path =\"https://media.geeksforgeeks.org/wp-content/uploads/geeks.ico\") \n"
   ]
  },
  {
   "cell_type": "code",
   "execution_count": null,
   "metadata": {},
   "outputs": [],
   "source": [
    "\n"
   ]
  },
  {
   "cell_type": "code",
   "execution_count": null,
   "metadata": {},
   "outputs": [],
   "source": []
  }
 ],
 "metadata": {
  "kernelspec": {
   "display_name": "Python 3",
   "language": "python",
   "name": "python3"
  },
  "language_info": {
   "codemirror_mode": {
    "name": "ipython",
    "version": 3
   },
   "file_extension": ".py",
   "mimetype": "text/x-python",
   "name": "python",
   "nbconvert_exporter": "python",
   "pygments_lexer": "ipython3",
   "version": "3.8.3"
  }
 },
 "nbformat": 4,
 "nbformat_minor": 2
}
